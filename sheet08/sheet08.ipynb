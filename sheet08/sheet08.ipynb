{
 "cells": [
  {
   "cell_type": "markdown",
   "metadata": {
    "deletable": false,
    "editable": false,
    "nbgrader": {
     "checksum": "98dd9821590bb944ae2f9c4588c562cf",
     "grade": false,
     "grade_id": "cell-0d1b4545a5ac35b4",
     "locked": true,
     "schema_version": 1,
     "solution": false
    }
   },
   "source": [
    "Osnabrück University - Computer Vision (Winter Term 2018/19) - Prof. Dr.-Ing. G. Heidemann, Ulf Krumnack, Axel Schaffland"
   ]
  },
  {
   "cell_type": "markdown",
   "metadata": {
    "deletable": false,
    "editable": false,
    "nbgrader": {
     "checksum": "2a2b4c1b4e2b2ecc1b4d92ee9a805bd9",
     "grade": false,
     "grade_id": "cell-f3a089ba6ba000ad",
     "locked": true,
     "schema_version": 1,
     "solution": false
    }
   },
   "source": [
    "# Exercise Sheet 08: Template Matching and Pattern Recognition"
   ]
  },
  {
   "cell_type": "markdown",
   "metadata": {
    "deletable": false,
    "editable": false,
    "nbgrader": {
     "checksum": "e0a7121ebfde204bed7cd749d5446eb8",
     "grade": false,
     "grade_id": "cell-bba575acc955c12f",
     "locked": true,
     "schema_version": 1,
     "solution": false
    }
   },
   "source": [
    "## Introduction\n",
    "\n",
    "This week's sheet should be solved and handed in before the end of **Sunday, January 13, 2019**. If you need help (and Google and other resources were not enough), feel free to contact your groups' designated tutor or whomever of us you run into first. Please upload your results to your group's Stud.IP folder."
   ]
  },
  {
   "cell_type": "markdown",
   "metadata": {
    "deletable": false,
    "editable": false,
    "nbgrader": {
     "checksum": "05e2572a1616b79bda574dafda149a1e",
     "grade": false,
     "grade_id": "cell-1294b5df62dc9899",
     "locked": true,
     "schema_version": 1,
     "solution": false
    }
   },
   "source": [
    "## Exercise 0: Math recap (Covariance) [0 Points]\n",
    "\n",
    "This exercise is supposed to be very easy, does not give any points, and is voluntary. There will be a similar exercise on every sheet. It is intended to revise some basic mathematical notions that are assumed throughout this class and to allow you to check if you are comfortable with them. Usually you should have no problem to answer these questions offhand, but if you feel unsure, this is a good time to look them up again. You are always welcome to discuss questions with the tutors or in the practice session. Also, if you have a (math) topic you would like to recap, please let us know."
   ]
  },
  {
   "cell_type": "markdown",
   "metadata": {
    "deletable": false,
    "editable": false,
    "nbgrader": {
     "checksum": "8e9a1de44903f9cedb716e93bb7fb7e2",
     "grade": false,
     "grade_id": "cell-dd4fc8740fa24cd4",
     "locked": true,
     "schema_version": 1,
     "solution": false
    }
   },
   "source": [
    "**a)** What does *covariance* express?"
   ]
  },
  {
   "cell_type": "markdown",
   "metadata": {
    "collapsed": true,
    "deletable": false,
    "nbgrader": {
     "checksum": "2fe29e77b9ee47fe2e2cb291452374a4",
     "grade": true,
     "grade_id": "cell-d0a08e6b9df1fa49",
     "locked": false,
     "points": 0,
     "schema_version": 1,
     "solution": true
    },
    "solution": true
   },
   "source": [
    "YOUR ANSWER HERE"
   ]
  },
  {
   "cell_type": "markdown",
   "metadata": {
    "deletable": false,
    "editable": false,
    "nbgrader": {
     "checksum": "652b0e3ffeb010beae62f7d0b6bffce5",
     "grade": false,
     "grade_id": "cell-3f45913faacb5114",
     "locked": true,
     "schema_version": 1,
     "solution": false
    }
   },
   "source": [
    "**b)** Provide a formula to compute the covariance of two 1-dimensional datasets. How can it be generalized to the $n$-dimensional case?"
   ]
  },
  {
   "cell_type": "markdown",
   "metadata": {
    "collapsed": true,
    "deletable": false,
    "nbgrader": {
     "checksum": "56f4777cbc6351cc2f120d7cfe5c1fe5",
     "grade": true,
     "grade_id": "cell-786eb09d2039e702",
     "locked": false,
     "points": 0,
     "schema_version": 1,
     "solution": true
    },
    "solution": true
   },
   "source": [
    "YOUR ANSWER HERE"
   ]
  },
  {
   "cell_type": "markdown",
   "metadata": {
    "deletable": false,
    "editable": false,
    "nbgrader": {
     "checksum": "c6f09fa26d3a68ae37e242ec00cb1aed",
     "grade": false,
     "grade_id": "cell-acdf51da975ebbb6",
     "locked": true,
     "schema_version": 1,
     "solution": false
    }
   },
   "source": [
    "**c)** Create and plot two (1-dimensional) datasets with low covariance (use `plt.scatter`). Then do the same for two datasets with high covariance."
   ]
  },
  {
   "cell_type": "code",
   "execution_count": null,
   "metadata": {
    "deletable": false,
    "nbgrader": {
     "checksum": "8089d28e00fd8fd5e0c38f98d4202044",
     "grade": true,
     "grade_id": "cell-93b8616a81136037",
     "locked": false,
     "points": 0,
     "schema_version": 1,
     "solution": true
    },
    "solution": true
   },
   "outputs": [],
   "source": [
    "%matplotlib inline\n",
    "import numpy as np\n",
    "import matplotlib.pyplot as plt\n",
    "\n",
    "# YOUR CODE HERE"
   ]
  },
  {
   "cell_type": "markdown",
   "metadata": {
    "deletable": false,
    "editable": false,
    "nbgrader": {
     "checksum": "db3ca979d632edfd9db7ee6500d3fd7a",
     "grade": false,
     "grade_id": "cell-f88fdfc9c00a86c6",
     "locked": true,
     "schema_version": 1,
     "solution": false
    }
   },
   "source": [
    "## Exercise 1: Template Matching [4 points]"
   ]
  },
  {
   "cell_type": "markdown",
   "metadata": {
    "deletable": false,
    "editable": false,
    "nbgrader": {
     "checksum": "de6dc7d561f138a1f2f3da6b24059654",
     "grade": false,
     "grade_id": "cell-d3953fee315bfd3a",
     "locked": true,
     "schema_version": 1,
     "solution": false
    }
   },
   "source": [
    "**a)** Explain in your own words the idea of *template matching*. Is it a data or model based approach? What are the advantages and disadvantages? In what situations would you apply template matching?"
   ]
  },
  {
   "cell_type": "markdown",
   "metadata": {
    "collapsed": true,
    "deletable": false,
    "nbgrader": {
     "checksum": "77a053a11eb7f1686fae9e3dbdc03d80",
     "grade": true,
     "grade_id": "cell-a3ebc3df967c0771",
     "locked": false,
     "points": 2,
     "schema_version": 1,
     "solution": true
    },
    "solution": true
   },
   "source": [
    "YOUR ANSWER HERE"
   ]
  },
  {
   "cell_type": "markdown",
   "metadata": {
    "deletable": false,
    "editable": false,
    "nbgrader": {
     "checksum": "ae4e4b88732de99a7fc3768f8a220fb9",
     "grade": false,
     "grade_id": "cell-6845468087dd4b95",
     "locked": true,
     "schema_version": 1,
     "solution": false
    }
   },
   "source": [
    "**b)** Explain the ideas of *mean absolute difference* and *correlation coefficient*? Name pros and cons."
   ]
  },
  {
   "cell_type": "markdown",
   "metadata": {
    "collapsed": true,
    "deletable": false,
    "nbgrader": {
     "checksum": "82fd818cf5236399254aa14575541d12",
     "grade": true,
     "grade_id": "cell-4477d05a94efa0cd",
     "locked": false,
     "points": 2,
     "schema_version": 1,
     "solution": true
    },
    "solution": true
   },
   "source": [
    "YOUR ANSWER HERE"
   ]
  },
  {
   "cell_type": "markdown",
   "metadata": {
    "deletable": false,
    "editable": false,
    "nbgrader": {
     "checksum": "cd506f936c6e885247839bb70736b923",
     "grade": false,
     "grade_id": "cell-da347f71dfbe19b7",
     "locked": true,
     "schema_version": 1,
     "solution": false
    }
   },
   "source": [
    "## Exercise 2: Where is Waldo [6 points]"
   ]
  },
  {
   "cell_type": "markdown",
   "metadata": {
    "deletable": false,
    "editable": false,
    "nbgrader": {
     "checksum": "896d591150245a77ae2e9723cbfaa73e",
     "grade": false,
     "grade_id": "cell-70a15bc2b73522ac",
     "locked": true,
     "schema_version": 1,
     "solution": false
    }
   },
   "source": [
    "In the two images `wheresWaldo1.jpg` and `wheresWaldo2.jpg`, Waldo is hiding in the midst of a busy crowd. He always wears the same red and white striped sweater and hat. However, he may be carrying a something that varies from scene to scene. Use template matching with the given Waldo templates (`waldo*.jpg`) to locate Waldo. Highlight\n",
    "Waldo in the scene and indicate which template was matched.\n",
    "\n",
    "**Hints:**\n",
    "* You may use buildin functions to solve this exercise.\n",
    "* The images are quite large! You may start by testing your code on a small image patch before applying it to the full scene.\n",
    "* You may not achieve a perfect match. Analyse the problems you encounter and think how you can improve your result."
   ]
  },
  {
   "cell_type": "code",
   "execution_count": null,
   "metadata": {
    "deletable": false,
    "nbgrader": {
     "checksum": "4b2ec65922f012d3c85dbcf62934c4d8",
     "grade": true,
     "grade_id": "cell-40a72fe4a5f8b3ac",
     "locked": false,
     "points": 0,
     "schema_version": 1,
     "solution": true
    }
   },
   "outputs": [],
   "source": [
    "%matplotlib inline\n",
    "import numpy as np\n",
    "import matplotlib.pyplot as plt\n",
    "import cv2 \n",
    "\n",
    "waldos = [plt.imread('images/waldo/wheresWaldo{}.jpg'.format(i)) for i in range(1, 3)]\n",
    "templates = [plt.imread('images/waldo/waldo{}.jpg'.format(i)) for i in range(0, 6)]\n",
    "\n",
    "plt.figure(figsize = (14, 40))\n",
    "for i,img in enumerate(waldos):\n",
    "    plt.subplot(len(waldos),1,i+1)\n",
    "    plt.imshow(img)\n",
    "    \n",
    "plt.figure(figsize = (14, 10))\n",
    "for i,img in enumerate(templates):\n",
    "    plt.subplot(1,len(templates),i+1)\n",
    "    plt.imshow(img)\n",
    "    \n",
    "    \n",
    "# YOUR CODE HERE"
   ]
  },
  {
   "cell_type": "code",
   "execution_count": null,
   "metadata": {
    "deletable": false,
    "nbgrader": {
     "checksum": "8b60c5cb5e7cecb7123a288b53b44349",
     "grade": true,
     "grade_id": "cell-251ac5188c884492",
     "locked": false,
     "points": 6,
     "schema_version": 1,
     "solution": true
    }
   },
   "outputs": [],
   "source": [
    "# YOUR CODE HERE"
   ]
  },
  {
   "cell_type": "markdown",
   "metadata": {
    "deletable": false,
    "editable": false,
    "nbgrader": {
     "checksum": "0f1d86e485b5a10903d14069bc6ef9ad",
     "grade": false,
     "grade_id": "cell-01820986e5030464",
     "locked": true,
     "schema_version": 1,
     "solution": false
    }
   },
   "source": [
    "## Exercise 3: Pattern Recognition and PCA [4 points]"
   ]
  },
  {
   "cell_type": "markdown",
   "metadata": {
    "deletable": false,
    "editable": false,
    "nbgrader": {
     "checksum": "539ab7115a04366278ef9443f96a0303",
     "grade": false,
     "grade_id": "cell-97094e0394f9303d",
     "locked": true,
     "schema_version": 1,
     "solution": false
    }
   },
   "source": [
    "**a)** What are the goals of *pattern recognition*? How can they be achieved? What are the problems?"
   ]
  },
  {
   "cell_type": "markdown",
   "metadata": {
    "collapsed": true,
    "deletable": false,
    "nbgrader": {
     "checksum": "ce57ae0347562af764af358baf199ef1",
     "grade": true,
     "grade_id": "cell-05d07605f02af35e",
     "locked": false,
     "points": 1,
     "schema_version": 1,
     "solution": true
    },
    "solution": true
   },
   "source": [
    "YOUR ANSWER HERE"
   ]
  },
  {
   "cell_type": "markdown",
   "metadata": {
    "deletable": false,
    "editable": false,
    "nbgrader": {
     "checksum": "a1517c09e596185d96e8efd670c1ca1a",
     "grade": false,
     "grade_id": "cell-ecdf6242b673f8b4",
     "locked": true,
     "schema_version": 1,
     "solution": false
    }
   },
   "source": [
    "**b)** What is *principal component analysis*? How is it related to pattern recognition?"
   ]
  },
  {
   "cell_type": "markdown",
   "metadata": {
    "collapsed": true,
    "deletable": false,
    "nbgrader": {
     "checksum": "ea87e4420cf17a605a90b92b24b6484d",
     "grade": true,
     "grade_id": "cell-b98cfb3ea236d698",
     "locked": false,
     "points": 1,
     "schema_version": 1,
     "solution": true
    },
    "solution": true
   },
   "source": [
    "YOUR ANSWER HERE"
   ]
  },
  {
   "cell_type": "markdown",
   "metadata": {
    "deletable": false,
    "editable": false,
    "nbgrader": {
     "checksum": "0a7d0576ffa847a27577321ec4aed1c1",
     "grade": false,
     "grade_id": "cell-b93ae8fdf82e6b21",
     "locked": true,
     "schema_version": 1,
     "solution": false
    }
   },
   "source": [
    "**c)** Explain how principal components can be computed? Then implement a function that performs the computation."
   ]
  },
  {
   "cell_type": "markdown",
   "metadata": {
    "collapsed": true,
    "deletable": false,
    "nbgrader": {
     "checksum": "97e53b5b7e524227db025ef36a723033",
     "grade": true,
     "grade_id": "cell-3931a24ab8fc5bde",
     "locked": false,
     "points": 1,
     "schema_version": 1,
     "solution": true
    },
    "solution": true
   },
   "source": [
    "YOUR ANSWER HERE"
   ]
  },
  {
   "cell_type": "code",
   "execution_count": null,
   "metadata": {
    "deletable": false,
    "nbgrader": {
     "checksum": "3aa1a598f2f0bb20b37306c494627a8d",
     "grade": true,
     "grade_id": "cell-0aecb18df86eca832",
     "locked": false,
     "points": 1,
     "schema_version": 1,
     "solution": true
    }
   },
   "outputs": [],
   "source": [
    "# YOUR CODE HERE"
   ]
  },
  {
   "cell_type": "markdown",
   "metadata": {
    "deletable": false,
    "editable": false,
    "nbgrader": {
     "checksum": "6a6eebbeef236b67b2f24d29879a4d99",
     "grade": false,
     "grade_id": "cell-d4c528e622d59ef6",
     "locked": true,
     "schema_version": 1,
     "solution": false
    }
   },
   "source": [
    "## Exercise 4: Eigenfaces [6 points]"
   ]
  },
  {
   "cell_type": "markdown",
   "metadata": {
    "deletable": false,
    "editable": false,
    "nbgrader": {
     "checksum": "0f57ff5adf3e1b7d04ff909782096eb0",
     "grade": false,
     "grade_id": "cell-94ec3cfcfec0e7b0",
     "locked": true,
     "schema_version": 1,
     "solution": false
    }
   },
   "source": [
    "**a)** Import the images from the directory `images/trainimgs` into an numpy array using the function \n",
    "`read_images_from_directory` provided in the cell below. Display the images and the corresponding names."
   ]
  },
  {
   "cell_type": "code",
   "execution_count": null,
   "metadata": {
    "deletable": false,
    "nbgrader": {
     "checksum": "a968ebd0d4b99fb11c7b88942699589f",
     "grade": true,
     "grade_id": "cell-471f722946eed0b9",
     "locked": false,
     "points": 1,
     "schema_version": 1,
     "solution": true
    }
   },
   "outputs": [],
   "source": [
    "%matplotlib inline\n",
    "import sys\n",
    "import os\n",
    "import glob\n",
    "import numpy as np\n",
    "import matplotlib.pyplot as plt\n",
    "\n",
    "def read_images_from_directory(directory, suffix, shape):\n",
    "    \"\"\"\n",
    "    Read all images found in DIRECTORY with given file\n",
    "    name SUFFIX. All images should have the same SHAPE,\n",
    "    specified as (rows,columns).\n",
    "    \n",
    "    Returns:\n",
    "        images: A numpy array of shape m*rows*columns (from shape)\n",
    "        names: A list of corresponding image names.\n",
    "    \"\"\"\n",
    "\n",
    "    # initialize the image array and name list\n",
    "    #images = np.empty((0, *shape))\n",
    "    images = np.empty((0, ) + shape)\n",
    "    names = []\n",
    "\n",
    "    # now loop through all image files in the directory\n",
    "    for file_name in glob.glob(directory + os.sep + '*.' + suffix):\n",
    "        if os.path.isfile(file_name):\n",
    "\n",
    "            # load each image (as double)\n",
    "            img = plt.imread(file_name)\n",
    "\n",
    "            # check for correct size\n",
    "            if img.shape == shape:\n",
    "                images = np.append(images, img.reshape((1, ) + shape), axis=0)\n",
    "                names.append(os.path.basename(file_name))\n",
    "            else:\n",
    "                print(\n",
    "                    'warning: Image \"' + file_name +\n",
    "                    '\" with wrong size will be ignored!',\n",
    "                    file=sys.stderr)\n",
    "\n",
    "    return images, names\n",
    "\n",
    "\n",
    "# image file suffix\n",
    "suffix = 'pgm'\n",
    "\n",
    "# image size\n",
    "img_shape = (192, 168)\n",
    "\n",
    "# YOUR CODE HERE"
   ]
  },
  {
   "cell_type": "markdown",
   "metadata": {
    "deletable": false,
    "editable": false,
    "nbgrader": {
     "checksum": "ff5810676c9c5912fef53f0c5bd341da",
     "grade": false,
     "grade_id": "ex-eigenface-pca-q",
     "locked": true,
     "schema_version": 1,
     "solution": false
    }
   },
   "source": [
    "**b)** Use PCA to compute the eigenfaces (i.e. the eigenvectors of the face images). You may use your PCA function from Exercise 3 or some build in function. Explain what kind of input PCA expects, and how that fits to our images (you may have to `reshape` the images!). Finally, display the eigenfaces."
   ]
  },
  {
   "cell_type": "code",
   "execution_count": null,
   "metadata": {
    "deletable": false,
    "nbgrader": {
     "checksum": "b21646aaeb84b3ff958d9ffc0624bfa5",
     "grade": true,
     "grade_id": "cell-a8ca9a7fbbdedb2f",
     "locked": false,
     "points": 1,
     "schema_version": 1,
     "solution": true
    }
   },
   "outputs": [],
   "source": [
    "# YOUR CODE HERE"
   ]
  },
  {
   "cell_type": "markdown",
   "metadata": {
    "deletable": false,
    "editable": false,
    "nbgrader": {
     "checksum": "ff1e319c2a7470adec5f61d0c8fe031c",
     "grade": false,
     "grade_id": "cell-c54ec5985375835f",
     "locked": true,
     "schema_version": 1,
     "solution": false
    }
   },
   "source": [
    "**c)** Now project the training face images into the eigenspace to calculate their ”feature vectors”,\n",
    "i.e. a representation with significantly lower dimension. For the projection of the face images,\n",
    "they have to be centered first, i.e. the mean face vector has to be subtracted. Store the mean face in some vector (`mean_face`) and the representation achieved in some array (`face_db`). Finally restore the images from `face_db` and display them alongside the original image. Try out the effect of changing the number of eigenfaces to be used (`num_eigenfaces`)."
   ]
  },
  {
   "cell_type": "code",
   "execution_count": null,
   "metadata": {
    "deletable": false,
    "nbgrader": {
     "checksum": "73e10abb59b95a1b3550ad9108a2f5d0",
     "grade": true,
     "grade_id": "cell-43eaeder3c18070c8",
     "locked": false,
     "points": 1,
     "schema_version": 1,
     "solution": true
    }
   },
   "outputs": [],
   "source": [
    "# number of eigenfaces to be used\n",
    "num_eigenfaces = 10\n",
    "\n",
    "# YOUR CODE HERE"
   ]
  },
  {
   "cell_type": "markdown",
   "metadata": {
    "deletable": false,
    "editable": false,
    "nbgrader": {
     "checksum": "e6d7cd5da56909f50364734682538c2f",
     "grade": false,
     "grade_id": "ex-eigenface-recognize",
     "locked": true,
     "schema_version": 1,
     "solution": false
    }
   },
   "source": [
    "**d)** Implement the function `recognize_face` that recognizes a face from that database by calculating the euclidean distance of this face feature vector to all of the training feature vectors from the database. The feature vector with the smallest distance represents the winner category. Check your implementation by recognizing the images from the training set (they should be recognized without error)."
   ]
  },
  {
   "cell_type": "code",
   "execution_count": null,
   "metadata": {
    "deletable": false,
    "nbgrader": {
     "checksum": "0321579c436d9a7304a985dac090dab3",
     "grade": true,
     "grade_id": "cell-55d01bed03c2d1ca2",
     "locked": false,
     "points": 2,
     "schema_version": 1,
     "solution": true
    }
   },
   "outputs": [],
   "source": [
    "from scipy.spatial.distance import cdist\n",
    "\n",
    "def recognize_face(face, eigenfaces, mean_face, face_db):\n",
    "    \"\"\"\n",
    "    Recognize a face from a face database.\n",
    "    and return the index of the best matching database entry.\n",
    "\n",
    "    The FACE is first centered and projected into the eigeface\n",
    "    space provided by EIGENFACES. Then the best match is found\n",
    "    according to the euclidean distance in the eigenface space.\n",
    "    \"\"\"\n",
    "    index = -1\n",
    "\n",
    "    # YOUR CODE HERE\n",
    "\n",
    "    return index\n",
    "\n",
    "\n",
    "# ... and now check your function on the training set ...\n",
    "# YOUR CODE HERE"
   ]
  },
  {
   "cell_type": "markdown",
   "metadata": {},
   "source": [
    "**e)** Now classify the images in directory `images/testimg/`. Try to reduce the number of principal components\n",
    "used. How many PCs are necessary to still achieve perfect classification?"
   ]
  },
  {
   "cell_type": "code",
   "execution_count": null,
   "metadata": {
    "deletable": false,
    "nbgrader": {
     "checksum": "fc8d190a5cd8113f50e0911b0f9eac45",
     "grade": true,
     "grade_id": "cell-47ccaee3973f6ac4",
     "locked": false,
     "points": 1,
     "schema_version": 1,
     "solution": true
    }
   },
   "outputs": [],
   "source": [
    "test_imgs, test_names = read_images_from_directory('images/testimg', suffix,\n",
    "                                                   img_shape)\n",
    "\n",
    "# YOUR CODE HERE"
   ]
  }
 ],
 "metadata": {
  "kernelspec": {
   "display_name": "Python 3",
   "language": "python",
   "name": "python3"
  },
  "language_info": {
   "codemirror_mode": {
    "name": "ipython",
    "version": 3
   },
   "file_extension": ".py",
   "mimetype": "text/x-python",
   "name": "python",
   "nbconvert_exporter": "python",
   "pygments_lexer": "ipython3",
   "version": "3.6.6"
  },
  "toc": {
   "nav_menu": {},
   "number_sections": false,
   "sideBar": true,
   "skip_h1_title": false,
   "toc_cell": false,
   "toc_position": {},
   "toc_section_display": "block",
   "toc_window_display": false
  },
  "varInspector": {
   "cols": {
    "lenName": 16,
    "lenType": 16,
    "lenVar": 40
   },
   "kernels_config": {
    "python": {
     "delete_cmd_postfix": "",
     "delete_cmd_prefix": "del ",
     "library": "var_list.py",
     "varRefreshCmd": "print(var_dic_list())"
    },
    "r": {
     "delete_cmd_postfix": ") ",
     "delete_cmd_prefix": "rm(",
     "library": "var_list.r",
     "varRefreshCmd": "cat(var_dic_list()) "
    }
   },
   "types_to_exclude": [
    "module",
    "function",
    "builtin_function_or_method",
    "instance",
    "_Feature"
   ],
   "window_display": false
  },
  "widgets": {
   "state": {},
   "version": "1.1.2"
  }
 },
 "nbformat": 4,
 "nbformat_minor": 1
}
