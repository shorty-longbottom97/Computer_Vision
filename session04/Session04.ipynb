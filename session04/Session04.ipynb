{
 "cells": [
  {
   "cell_type": "markdown",
   "metadata": {
    "slideshow": {
     "slide_type": "slide"
    }
   },
   "source": [
    "# Computer Vision (Winter 2018/19)"
   ]
  },
  {
   "cell_type": "markdown",
   "metadata": {},
   "source": [
    "## Practice Session 04: Color, Camera"
   ]
  },
  {
   "cell_type": "markdown",
   "metadata": {},
   "source": [
    "November 28th, 2018"
   ]
  },
  {
   "cell_type": "markdown",
   "metadata": {},
   "source": [
    "Ulf Krumnack\n",
    "\n",
    "Institute of Cognitive Science\n",
    "University of Osnabrück"
   ]
  },
  {
   "cell_type": "markdown",
   "metadata": {
    "slideshow": {
     "slide_type": "subslide"
    }
   },
   "source": [
    "## Today's Session"
   ]
  },
  {
   "cell_type": "markdown",
   "metadata": {},
   "source": [
    "* discussen exercise sheet03\n",
    "* new exercise sheet04\n",
    "* color\n",
    "* camera"
   ]
  },
  {
   "cell_type": "markdown",
   "metadata": {
    "slideshow": {
     "slide_type": "slide"
    }
   },
   "source": [
    "# Image Gradients"
   ]
  },
  {
   "cell_type": "code",
   "execution_count": null,
   "metadata": {
    "slideshow": {
     "slide_type": "slide"
    }
   },
   "outputs": [],
   "source": [
    "%matplotlib inline\n",
    "import numpy as np\n",
    "import matplotlib.pyplot as plt\n",
    "from scipy.ndimage.filters import sobel,laplace,gaussian_filter\n",
    "from skimage import data\n",
    "\n",
    "img = data.camera().astype(np.float32)/256\n",
    "\n",
    "# cut out a line from the image\n",
    "row = 100\n",
    "c = np.arange(img.shape[1])\n",
    "r = img[row,:].copy()\n",
    "img[row-1:row+1,:] = 1-r\n",
    "\n",
    "# plot the image\n",
    "plt.figure(figsize=(12, 10))\n",
    "plt.subplot(2,2,1); plt.gray(); plt.imshow(img)\n",
    "\n",
    "# plot line as function\n",
    "plt.subplot(2,2,2);\n",
    "smooth = gaussian_filter(r,3)\n",
    "plt.plot(c,r,'b', c,smooth,'g')\n",
    "\n",
    "plt.subplot(2,2,3);\n",
    "first = sobel(r)\n",
    "first_smooth = sobel(smooth)\n",
    "plt.plot(c,r,'y', c,first,'r', c,first_smooth,'b')\n",
    "\n",
    "plt.subplot(2,2,4);\n",
    "second = laplace(r)\n",
    "second_smooth = laplace(smooth)\n",
    "plt.plot(c,r,'y', c,second,'r', c,second_smooth,'b')\n",
    "\n",
    "plt.show()"
   ]
  },
  {
   "cell_type": "code",
   "execution_count": null,
   "metadata": {},
   "outputs": [],
   "source": [
    "%matplotlib inline\n",
    "import numpy as np\n",
    "import matplotlib.pyplot as plt\n",
    "from scipy.ndimage.filters import sobel,laplace,gaussian_filter\n",
    "from skimage import data\n",
    "\n",
    "img = data.camera().astype(np.float32)/256\n",
    "\n",
    "img_smooth = gaussian_filter(img,3)\n",
    "\n",
    "grad_x = sobel(img, axis=1)\n",
    "grad_y = sobel(img, axis=0)\n",
    "\n",
    "grad_abs = np.sqrt(grad_x**2 + grad_y**2)\n",
    "\n",
    "# plot the image\n",
    "plt.figure(figsize=(12, 36))\n",
    "plt.subplot(6,2,1); plt.gray(); plt.imshow(img)\n",
    "\n",
    "plt.subplot(6,2,3); plt.gray(); plt.imshow(img_smooth)\n",
    "plt.subplot(6,2,5); plt.gray(); plt.imshow(grad_x)\n",
    "plt.subplot(6,2,6); plt.gray(); plt.imshow(grad_y)\n",
    "\n",
    "plt.subplot(6,2,7); plt.gray(); plt.imshow(grad_abs)\n",
    "\n",
    "threshold = grad_abs.min() + 0.5 * (grad_abs.max()-grad_abs.min())\n",
    "plt.subplot(6,2,8); plt.gray(); plt.imshow(grad_abs>threshold)\n",
    "\n",
    "plt.subplot(3,1,3); plt.gray(); plt.imshow(grad_abs)\n",
    "# visualize gradients:\n",
    "f = 16 ; scale = 20\n",
    "for r,c in np.ndindex((img.shape[0]//f,img.shape[0]//f)):\n",
    "    x0 = c*f; y0 = r*f\n",
    "    i = grad_abs[y0:y0+f,x0:x0+f].argmax()\n",
    "    dy, dx = np.unravel_index(i, (f,f))\n",
    "    x = x0+dx; y = y0+dy\n",
    "    if grad_abs[y,x] > threshold:\n",
    "        plt.arrow(x, y, grad_x[y,x]*scale, grad_y[y,x]*scale,\n",
    "                  color='yellow', head_width=10)\n",
    "    \n",
    "plt.show()"
   ]
  },
  {
   "cell_type": "markdown",
   "metadata": {
    "slideshow": {
     "slide_type": "slide"
    }
   },
   "source": [
    "# Color\n",
    "\n",
    "* Load the image `peppers.png`."
   ]
  },
  {
   "cell_type": "markdown",
   "metadata": {
    "deletable": false,
    "editable": false,
    "nbgrader": {
     "checksum": "70ecd862f45aa7bc059aa1265538ee88",
     "grade": false,
     "grade_id": "cell-f19b5cbe8e25fb30",
     "locked": true,
     "schema_version": 1,
     "solution": false
    },
    "slideshow": {
     "slide_type": "slide"
    }
   },
   "source": [
    "## Color\n",
    "\n",
    "* No exercise sheet on color.\n",
    "* Instead, recap of CV-06 here in the practice session"
   ]
  },
  {
   "cell_type": "code",
   "execution_count": null,
   "metadata": {},
   "outputs": [],
   "source": [
    "%matplotlib inline\n",
    "import matplotlib.pyplot as plt\n",
    "\n",
    "img = plt.imread('peppers.png')\n",
    "\n",
    "plt.imshow(img)\n",
    "plt.title(f\"shape: {img.shape} ({img.dtype})\")\n",
    "plt.show()"
   ]
  },
  {
   "cell_type": "markdown",
   "metadata": {
    "slideshow": {
     "slide_type": "subslide"
    }
   },
   "source": [
    "### Task 1: \n",
    "\n",
    "* Display the red, green, and blue channel (in red, green, and blue respectively).\n",
    "* Convert the image in the HSV colorspace. Display the H, S, and V channels (hint: there exists an `'hsv'` color map)."
   ]
  },
  {
   "cell_type": "code",
   "execution_count": null,
   "metadata": {
    "deletable": false,
    "nbgrader": {
     "checksum": "dce6e13811b9e0cdbd74ca58df85b9a1",
     "grade": true,
     "grade_id": "cell-4ea1b12188dbb046",
     "locked": false,
     "points": 0,
     "schema_version": 1,
     "solution": true
    },
    "slideshow": {
     "slide_type": "-"
    }
   },
   "outputs": [],
   "source": [
    "%matplotlib inline\n",
    "import numpy as np\n",
    "import matplotlib.pyplot as plt\n",
    "\n",
    "img = plt.imread('peppers.png')\n",
    "\n",
    "plt.figure(figsize=(12,10))\n",
    "plt.figure(figsize=(12,10))\n",
    "plt.subplot(2,2,1); plt.axis('off'); plt.imshow(img)\n",
    "# YOUR CODE HERE\n",
    "plt.show()"
   ]
  },
  {
   "cell_type": "code",
   "execution_count": null,
   "metadata": {
    "deletable": false,
    "nbgrader": {
     "checksum": "28e0f3c3026031d50794c629f3f1baef",
     "grade": true,
     "grade_id": "cell-7d72c70f14bd19a3",
     "locked": false,
     "points": 0,
     "schema_version": 1,
     "solution": true
    }
   },
   "outputs": [],
   "source": [
    "from matplotlib import colors\n",
    "\n",
    "img_hsv = colors.rgb_to_hsv(img)\n",
    "\n",
    "plt.figure(figsize=(12,10))\n",
    "plt.subplot(2,2,1); plt.axis('off'); plt.imshow(img)\n",
    "# YOUR CODE HERE\n",
    "plt.show()"
   ]
  },
  {
   "cell_type": "markdown",
   "metadata": {
    "slideshow": {
     "slide_type": "slide"
    }
   },
   "source": [
    "# Camera\n",
    "\n",
    "OpenCV (module `cv2`) provides access to your webcam:"
   ]
  },
  {
   "cell_type": "code",
   "execution_count": null,
   "metadata": {
    "slideshow": {
     "slide_type": "subslide"
    }
   },
   "outputs": [],
   "source": [
    "%matplotlib inline\n",
    "import imageio\n",
    "import matplotlib.pyplot as plt\n",
    "\n",
    "reader = imageio.get_reader('<video0>')\n",
    "img = reader.get_next_data()\n",
    "reader.close()\n",
    "\n",
    "plt.imshow(img)\n",
    "plt.title(\"Frame: {}, type={}\".format(frame.shape, frame.dtype))\n",
    "plt.show()"
   ]
  },
  {
   "cell_type": "code",
   "execution_count": null,
   "metadata": {
    "slideshow": {
     "slide_type": "subslide"
    }
   },
   "outputs": [],
   "source": [
    "%matplotlib inline\n",
    "import matplotlib.pyplot as plt\n",
    "import cv2\n",
    "\n",
    "camera = cv2.VideoCapture(0)\n",
    "ok, frame = camera.read()\n",
    "camera.release()\n",
    "\n",
    "plt.figure(figsize=(12,6))\n",
    "plt.imshow(cv2.cvtColor(frame, cv2.COLOR_BGR2RGB))\n",
    "plt.title(\"Frame ({}): {}, type={}\".format(ok, frame.shape, frame.dtype))\n",
    "plt.show()"
   ]
  },
  {
   "cell_type": "markdown",
   "metadata": {},
   "source": [
    "## Exercise:\n",
    "\n",
    "1. Take two snapshots and create a difference image for motion detection (CV-03, slide 26)"
   ]
  },
  {
   "cell_type": "code",
   "execution_count": null,
   "metadata": {
    "deletable": false,
    "nbgrader": {
     "checksum": "450893b9e8170f5f7809882cfd8d4683",
     "grade": true,
     "grade_id": "cell-77f93af462c02708",
     "locked": false,
     "points": 0,
     "schema_version": 1,
     "solution": true
    }
   },
   "outputs": [],
   "source": [
    "import time\n",
    "input(\"Press enter for the first image ...\")\n",
    "camera = cv2.VideoCapture(0)\n",
    "time.sleep(.5)\n",
    "ok, frame1 = camera.read()\n",
    "camera.release()\n",
    "\n",
    "input(\"Press enter for the second image ...\")\n",
    "time.sleep(.5)\n",
    "camera = cv2.VideoCapture(0)\n",
    "ok, frame2 = camera.read()\n",
    "camera.release()\n",
    "\n",
    "diff = frame1\n",
    "# YOUR CODE HERE\n",
    "\n",
    "plt.figure(figsize=(12,6))\n",
    "plt.gray()\n",
    "plt.subplot(1,3,1); plt.imshow(f1); plt.title('Snapshot 1')\n",
    "plt.subplot(1,3,2); plt.imshow(f2); plt.title('Snapshot 2')\n",
    "plt.subplot(1,3,3); plt.imshow(diff); plt.title('Difference image')\n",
    "plt.show()"
   ]
  },
  {
   "cell_type": "markdown",
   "metadata": {
    "deletable": false,
    "editable": false,
    "nbgrader": {
     "checksum": "7b85088ce49d31ad9d972e6f54810be1",
     "grade": false,
     "grade_id": "cell-49feae8f355763d5",
     "locked": true,
     "schema_version": 1,
     "solution": false
    }
   },
   "source": [
    "## cvloop\n",
    "\n",
    "* [`cvloop`](https://github.com/shoeffner/cvloop) is a tool developed by Sebastian Höffner, a former CV tutor.\n",
    "* it allows to embed a camera stream into a notebook"
   ]
  },
  {
   "cell_type": "code",
   "execution_count": null,
   "metadata": {},
   "outputs": [],
   "source": [
    "from cvloop import cvloop\n",
    "\n",
    "cvloop()"
   ]
  },
  {
   "cell_type": "code",
   "execution_count": null,
   "metadata": {},
   "outputs": [],
   "source": [
    "from cvloop import cvloop\n",
    "\n",
    "def invert(frame):\n",
    "    return 255-frame\n",
    "\n",
    "cvloop(function=invert, side_by_side=True)"
   ]
  },
  {
   "cell_type": "markdown",
   "metadata": {},
   "source": [
    "## Exercises\n",
    "1. apply edge detection to the video stream\n",
    "1. background subtraction: implement a simple form of background subtraction by first taking a reference picture without foreground object and then substract the background from the videostream.\n",
    "1. color tracking: track a colored object moving in front of the camera and mark it in the video stream. You may also extend your solution and use the object to \"paint\" on the screen."
   ]
  },
  {
   "cell_type": "code",
   "execution_count": null,
   "metadata": {
    "deletable": false,
    "nbgrader": {
     "checksum": "7f7ea549ba7a2334d9b51f70df353b32",
     "grade": true,
     "grade_id": "cell-1c7336c4b169bc02",
     "locked": false,
     "points": 0,
     "schema_version": 1,
     "solution": true
    }
   },
   "outputs": [],
   "source": [
    "import numpy as np\n",
    "from matplotlib import pyplot as plt\n",
    "from skimage import color\n",
    "from cvloop import cvloop\n",
    "\n",
    "def my_edges(frame):\n",
    "    edges = frame\n",
    "    # YOUR CODE HERE\n",
    "    return edges\n",
    "\n",
    "# Run cvloop\n",
    "cvloop(function=my_edges)"
   ]
  },
  {
   "cell_type": "code",
   "execution_count": null,
   "metadata": {
    "deletable": false,
    "nbgrader": {
     "checksum": "2d68a4208f4120ab9d0b13f85f58f5b6",
     "grade": true,
     "grade_id": "cell-fd4b50617311cc3b",
     "locked": false,
     "points": 0,
     "schema_version": 1,
     "solution": true
    }
   },
   "outputs": [],
   "source": [
    "%matplotlib notebook\n",
    "import cv2\n",
    "import numpy as np\n",
    "from matplotlib import pyplot as plt\n",
    "from skimage import color\n",
    "from cvloop import cvloop\n",
    "\n",
    "def my_background_subtraction(frame):\n",
    "    global background_gray\n",
    "    result = frame\n",
    "    # YOUR CODE HERE\n",
    "    return result\n",
    "\n",
    "camera = cv2.VideoCapture(0)\n",
    "assert camera, \"No Capture device!\"\n",
    "\n",
    "input(\"Press enter to take the empty reference image ...\")\n",
    "ok, background = camera.read()\n",
    "assert ok, \"Image capture failed ({})!\".format(ok)\n",
    "background_gray = color.rgb2gray(background)\n",
    "camera.release()\n",
    "\n",
    "input(\"Now start the video stream ...\")\n",
    "cvloop(function=my_background_subtraction)"
   ]
  },
  {
   "cell_type": "code",
   "execution_count": null,
   "metadata": {
    "deletable": false,
    "nbgrader": {
     "checksum": "e52e5f187fc30e7c204368e6408df1b6",
     "grade": true,
     "grade_id": "cell-f1638bd56cc34286",
     "locked": false,
     "points": 0,
     "schema_version": 1,
     "solution": true
    },
    "slideshow": {
     "slide_type": "subslide"
    }
   },
   "outputs": [],
   "source": [
    "%matplotlib notebook\n",
    "import numpy as np\n",
    "import skimage.color\n",
    "from cvloop import cvloop\n",
    "\n",
    "hue = .3 # green\n",
    "\n",
    "def my_painter(frame):\n",
    "    global hue\n",
    "    frame_hsv = color.rgb2hsv(frame)\n",
    "    # YOUR CODE HERE\n",
    "    return frame\n",
    "\n",
    "cvloop(function=my_painter)"
   ]
  }
 ],
 "metadata": {
  "kernelspec": {
   "display_name": "Python 3",
   "language": "python",
   "name": "python3"
  },
  "language_info": {
   "codemirror_mode": {
    "name": "ipython",
    "version": 3
   },
   "file_extension": ".py",
   "mimetype": "text/x-python",
   "name": "python",
   "nbconvert_exporter": "python",
   "pygments_lexer": "ipython3",
   "version": "3.6.6"
  },
  "toc": {
   "base_numbering": 1,
   "nav_menu": {},
   "number_sections": true,
   "sideBar": true,
   "skip_h1_title": false,
   "title_cell": "Table of Contents",
   "title_sidebar": "Contents",
   "toc_cell": false,
   "toc_position": {},
   "toc_section_display": true,
   "toc_window_display": false
  },
  "varInspector": {
   "cols": {
    "lenName": 16,
    "lenType": 16,
    "lenVar": 40
   },
   "kernels_config": {
    "python": {
     "delete_cmd_postfix": "",
     "delete_cmd_prefix": "del ",
     "library": "var_list.py",
     "varRefreshCmd": "print(var_dic_list())"
    },
    "r": {
     "delete_cmd_postfix": ") ",
     "delete_cmd_prefix": "rm(",
     "library": "var_list.r",
     "varRefreshCmd": "cat(var_dic_list()) "
    }
   },
   "types_to_exclude": [
    "module",
    "function",
    "builtin_function_or_method",
    "instance",
    "_Feature"
   ],
   "window_display": false
  }
 },
 "nbformat": 4,
 "nbformat_minor": 2
}
