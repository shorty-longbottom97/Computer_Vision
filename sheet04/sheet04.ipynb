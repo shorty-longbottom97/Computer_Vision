{
 "cells": [
  {
   "cell_type": "markdown",
   "metadata": {
    "deletable": false,
    "editable": false,
    "nbgrader": {
     "checksum": "33992f3afbff2c9481026d84a58ac2fb",
     "grade": false,
     "grade_id": "cell-5bd18953238e78d0",
     "locked": true,
     "schema_version": 1,
     "solution": false
    }
   },
   "source": [
    "Osnabrück University - Computer Vision (Winter Term 2018/19) - Prof. Dr.-Ing. G. Heidemann, Ulf Krumnack"
   ]
  },
  {
   "cell_type": "markdown",
   "metadata": {
    "deletable": false,
    "editable": false,
    "nbgrader": {
     "checksum": "1d12153e95200404858ea2a34740ac17",
     "grade": false,
     "grade_id": "cell-5b1c9d7364139283",
     "locked": true,
     "schema_version": 1,
     "solution": false
    }
   },
   "source": [
    "# Exercise Sheet 04: Segmentation and Color"
   ]
  },
  {
   "cell_type": "markdown",
   "metadata": {
    "deletable": false,
    "editable": false,
    "nbgrader": {
     "checksum": "c451b2890db35dbbaaf66b30a953569a",
     "grade": false,
     "grade_id": "cell-7f36caad6a99f515",
     "locked": true,
     "schema_version": 1,
     "solution": false
    }
   },
   "source": [
    "## Introduction\n",
    "\n",
    "This week's sheet should be solved and handed in before the end of **Sunday, December 2, 2018**. If you need help (and Google and other resources were not enough), feel free to contact your groups' designated tutor or whomever of us you run into first. Please upload your results to your group's Stud.IP folder."
   ]
  },
  {
   "cell_type": "markdown",
   "metadata": {
    "deletable": false,
    "editable": false,
    "nbgrader": {
     "checksum": "ea81cba32120a7318c6784051ecb2740",
     "grade": false,
     "grade_id": "math-exp",
     "locked": true,
     "schema_version": 1,
     "solution": false
    }
   },
   "source": [
    "## Assignment 0: Math recap (the exponential function) [2 Bonus Points]\n",
    "\n",
    "This exercise is supposed to be very easy, does not give any points, and is voluntary. There will be a similar exercise on every sheet. It is intended to revise some basic mathematical notions that are assumed throughout this class and to allow you to check if you are comfortable with them. Usually you should have no problem to answer these questions offhand, but if you feel unsure, this is a good time to look them up again. You are always welcome to discuss questions with the tutors or in the practice session. Also, if you have a (math) topic you would like to recap, please let us know."
   ]
  },
  {
   "cell_type": "markdown",
   "metadata": {
    "deletable": false,
    "editable": false,
    "nbgrader": {
     "checksum": "ebc6733562fac8716405aa3211f53e3e",
     "grade": false,
     "grade_id": "math-exp-q1",
     "locked": true,
     "schema_version": 1,
     "solution": false
    }
   },
   "source": [
    "**a)** What is an *exponential function*? How can it be characterized? What is special about $e^x$?"
   ]
  },
  {
   "cell_type": "markdown",
   "metadata": {
    "collapsed": true,
    "deletable": false,
    "nbgrader": {
     "checksum": "ebfd1cecaa687ec46793840784814e92",
     "grade": true,
     "grade_id": "math-exp-a1",
     "locked": false,
     "points": 0,
     "schema_version": 1,
     "solution": true
    },
    "solution": true
   },
   "source": [
    "YOUR ANSWER HERE"
   ]
  },
  {
   "cell_type": "markdown",
   "metadata": {
    "deletable": false,
    "editable": false,
    "nbgrader": {
     "checksum": "9894dec6a8a57ffccf81cd11e2e269e0",
     "grade": false,
     "grade_id": "math-exp-q2",
     "locked": true,
     "schema_version": 1,
     "solution": false
    }
   },
   "source": [
    "**b)** How is the exponential function defined for complex arguments? In what way(s) does this generalize the real case?"
   ]
  },
  {
   "cell_type": "markdown",
   "metadata": {
    "collapsed": true,
    "deletable": false,
    "nbgrader": {
     "checksum": "18e3b66094a4176e70210c80e349b42a",
     "grade": true,
     "grade_id": "math-exp-a2",
     "locked": false,
     "points": 0,
     "schema_version": 1,
     "solution": true
    },
    "solution": true
   },
   "source": [
    "YOUR ANSWER HERE"
   ]
  },
  {
   "cell_type": "markdown",
   "metadata": {
    "deletable": false,
    "editable": false,
    "nbgrader": {
     "checksum": "0fe2c7f6e8eafafff982bb18be856094",
     "grade": false,
     "grade_id": "math-exp-q3",
     "locked": true,
     "schema_version": 1,
     "solution": false
    }
   },
   "source": [
    "**c)** The complex exponential function allows to define a mapping $\\mathbb{R}\\to\\mathbb{C}$ by $x\\mapsto e^{ix}$? How does the graph of this mapping look like? Where are the points $e^{2\\pi i\\frac mn}$ for $m=0,...,n\\in\\mathbb{N}$ located on this graph?"
   ]
  },
  {
   "cell_type": "markdown",
   "metadata": {
    "collapsed": true,
    "deletable": false,
    "nbgrader": {
     "checksum": "975473d35b170f509697900ad803eee7",
     "grade": true,
     "grade_id": "math-exp-a3",
     "locked": false,
     "points": 0,
     "schema_version": 1,
     "solution": true
    },
    "solution": true
   },
   "source": [
    "YOUR ANSWER HERE"
   ]
  },
  {
   "cell_type": "code",
   "execution_count": null,
   "metadata": {
    "deletable": false,
    "nbgrader": {
     "checksum": "1d674be6080ea518f9020470574062da",
     "grade": true,
     "grade_id": "math-exp-a3b",
     "locked": false,
     "points": 0,
     "schema_version": 1,
     "solution": true
    }
   },
   "outputs": [],
   "source": [
    "# YOUR CODE HERE"
   ]
  },
  {
   "cell_type": "markdown",
   "metadata": {
    "deletable": false,
    "editable": false,
    "nbgrader": {
     "checksum": "68de0e9ed1c020224d79d40f36752e4e",
     "grade": false,
     "grade_id": "cell-d4ff17dad755ebc5",
     "locked": true,
     "schema_version": 1,
     "solution": false
    }
   },
   "source": [
    "## Assignment 1: Painting with a webcam using color detection [2 points]\n"
   ]
  },
  {
   "cell_type": "markdown",
   "metadata": {
    "deletable": false,
    "editable": false,
    "nbgrader": {
     "checksum": "f402efb0478ae0fd1e5ba93f56bfb52a",
     "grade": false,
     "grade_id": "cell-60ffb2d0d6a66bc6",
     "locked": true,
     "schema_version": 1,
     "solution": false
    }
   },
   "source": [
    "### Introducing cvloop\n",
    "\n",
    "From now on we will try to make the exercises a bit more interactive and enable you to see the algorithms in live action. For that purpose we use the package `cvloop`. To install it first source your cv environment and then run the follwing cell"
   ]
  },
  {
   "cell_type": "code",
   "execution_count": null,
   "metadata": {
    "deletable": false,
    "editable": false,
    "nbgrader": {
     "checksum": "71a1160cf1678ed58225d706991d1972",
     "grade": false,
     "grade_id": "cell-60ffb2d0d6a66bc62",
     "locked": true,
     "schema_version": 1,
     "solution": false
    }
   },
   "outputs": [],
   "source": [
    "!pip install cvloop"
   ]
  },
  {
   "cell_type": "markdown",
   "metadata": {
    "deletable": false,
    "editable": false,
    "nbgrader": {
     "checksum": "cd3b584e77ece05ec5fc78d2df6a09c2",
     "grade": false,
     "grade_id": "cell-60ffb2d0d6a66bc63",
     "locked": true,
     "schema_version": 1,
     "solution": false
    }
   },
   "source": [
    "Check that it works by executing the cell below:"
   ]
  },
  {
   "cell_type": "code",
   "execution_count": null,
   "metadata": {
    "deletable": false,
    "editable": false,
    "nbgrader": {
     "checksum": "05d34599f82b8c8609369b2195d76a48",
     "grade": false,
     "grade_id": "cell-af8e63521a144695",
     "locked": true,
     "schema_version": 1,
     "solution": false
    }
   },
   "outputs": [],
   "source": [
    "from cvloop import cvloop\n",
    "cvl = cvloop(function=lambda frame: 255 - frame, side_by_side=True)"
   ]
  },
  {
   "cell_type": "markdown",
   "metadata": {
    "deletable": false,
    "editable": false,
    "nbgrader": {
     "checksum": "1dc88bab5f472fbc13ae89a6a5a3b29e",
     "grade": false,
     "grade_id": "cell-5eb388ec5f5c3f3f",
     "locked": true,
     "schema_version": 1,
     "solution": false
    }
   },
   "source": [
    "### a)\n",
    "In this task we will track a small colored object (like the cap of a pen) in front of a neutral background of a different color. We will use the location of the object to paint on a virtual canvas. For that you have to implement the following tasks in the `draw_func` function:\n",
    "\n",
    "* Convert the image `img` given to the `draw_func` into HSV color space. You may use the OpenCV function `cvtColor`. Note: In OpenCV BGR and not RGB is the standard color space.\n",
    "* Measure the color of your object. You may return the converted image and interactively measure the color with your mouse. Define your measured hue value in a constant\n",
    "* Discard all channel except the hue channel. \n",
    "* Find the location with the most similar hue to the measured hue of your object. You may cast your `uint8` image to `int16`\n",
    "to allow negative values\n",
    "* Paint for example a circle at this position in `img_draw`.\n",
    "\n",
    "Use OpenCV functions to find minima, draw circles, etc."
   ]
  },
  {
   "cell_type": "code",
   "execution_count": null,
   "metadata": {
    "deletable": false,
    "nbgrader": {
     "checksum": "2814ced986d09a1435765538d75d9c61",
     "grade": true,
     "grade_id": "cell-ba6ce24dc320a7341",
     "locked": false,
     "points": 5,
     "schema_version": 1,
     "solution": true
    }
   },
   "outputs": [],
   "source": [
    "%matplotlib inline\n",
    "from cvloop import cvloop\n",
    "import cv2\n",
    "import numpy as np\n",
    "\n",
    "radius = 5\n",
    "color = (255,255,255)\n",
    "# Adapt this hue value to the hue of your object\n",
    "h = 122\n",
    "img_draw = np.zeros((480,640,3), np.uint8) \n",
    "\n",
    "def draw_func(img):\n",
    "    \n",
    "    \"\"\"\n",
    "    Draw circle on img_draw at detected object location\n",
    "    \n",
    "    Args:\n",
    "        img          the BGR input image (uint8)\n",
    "\n",
    "    Returns:\n",
    "        img_draw     img with circle drawn at postion of object\n",
    "    \"\"\"\n",
    "    \n",
    "    # YOUR CODE HERE\n",
    "    return img_draw"
   ]
  },
  {
   "cell_type": "code",
   "execution_count": null,
   "metadata": {},
   "outputs": [],
   "source": [
    "# Test with single image and without cvloop. (cvloop supresses errors in the called function)\n",
    "%matplotlib inline\n",
    "import imageio\n",
    "import matplotlib.pyplot as plt\n",
    "\n",
    "reader = imageio.get_reader('<video0>')\n",
    "img = reader.get_next_data()\n",
    "\n",
    "plt.imshow(draw_func(img))\n",
    "\n",
    "reader.close()\n",
    "\n"
   ]
  },
  {
   "cell_type": "code",
   "execution_count": null,
   "metadata": {
    "deletable": false,
    "editable": false,
    "nbgrader": {
     "checksum": "f7184be99682b7d7726bc5a727c0cf16",
     "grade": false,
     "grade_id": "cell-ba6ce24dc320a734",
     "locked": true,
     "schema_version": 1,
     "solution": false
    }
   },
   "outputs": [],
   "source": [
    "# Now use cvloop to run the algorithm live on webcam data     \n",
    "cvl = cvloop(function=draw_func, side_by_side=True)"
   ]
  },
  {
   "cell_type": "markdown",
   "metadata": {
    "deletable": false,
    "editable": false,
    "nbgrader": {
     "checksum": "a125f6a79d681023b216311aa2cbea77",
     "grade": false,
     "grade_id": "seg-hist",
     "locked": true,
     "schema_version": 1,
     "solution": false
    }
   },
   "source": [
    "## Assignment 2: Histogram-based segmentation [5 Points]"
   ]
  },
  {
   "cell_type": "markdown",
   "metadata": {
    "deletable": false,
    "editable": false,
    "nbgrader": {
     "checksum": "8567e20aed414f16cb0b807d0ed3a79f",
     "grade": false,
     "grade_id": "seg-hist-q1",
     "locked": true,
     "schema_version": 1,
     "solution": false
    }
   },
   "source": [
    "### a) Histogram-based segmentation\n",
    "\n",
    "What is histogram-based segmentation? What are it's goals, benefits, and problems?"
   ]
  },
  {
   "cell_type": "markdown",
   "metadata": {
    "collapsed": true,
    "deletable": false,
    "nbgrader": {
     "checksum": "387c7bb95dc38674458347c09db77d14",
     "grade": true,
     "grade_id": "seg-hist-a1",
     "locked": false,
     "points": 1,
     "schema_version": 1,
     "solution": true
    },
    "solution": true
   },
   "source": [
    "YOUR ANSWER HERE"
   ]
  },
  {
   "cell_type": "markdown",
   "metadata": {
    "deletable": false,
    "editable": false,
    "nbgrader": {
     "checksum": "8b1c34e5e78db8919509851a8fed0e7d",
     "grade": false,
     "grade_id": "seg-hist-q2",
     "locked": true,
     "schema_version": 1,
     "solution": false
    }
   },
   "source": [
    "### b) Threshold computation\n",
    "\n",
    "There exist different methods to automatically determine a threshold for an image. Find at least two that are provided by scikit-image and describe them in more detail. Then apply them to the images `schrift.png` and `pebbles.jpg`."
   ]
  },
  {
   "cell_type": "markdown",
   "metadata": {
    "collapsed": true,
    "deletable": false,
    "nbgrader": {
     "checksum": "fcbbb249da1fa2f5206ac675cdd17fcf",
     "grade": true,
     "grade_id": "seg-hist-a2",
     "locked": false,
     "points": 1,
     "schema_version": 1,
     "solution": true
    },
    "solution": true
   },
   "source": [
    "YOUR ANSWER HERE"
   ]
  },
  {
   "cell_type": "code",
   "execution_count": null,
   "metadata": {
    "deletable": false,
    "editable": false,
    "nbgrader": {
     "checksum": "ec595c9bd3627df1275e9309b84124c4",
     "grade": false,
     "grade_id": "seg-hist-code",
     "locked": true,
     "schema_version": 1,
     "solution": false
    }
   },
   "outputs": [],
   "source": [
    "# Run this cell to get an impression of how the histograms look\n",
    "\n",
    "%matplotlib inline\n",
    "import matplotlib.pyplot as plt\n",
    "\n",
    "# plt.imread reads pngs as float and jpg as uint8\n",
    "img1 = plt.imread('images/schrift.png')*255\n",
    "img2 = plt.imread('images/pebbles.jpg') \n",
    "\n",
    "plt.figure(figsize=(15, 10)) \n",
    "plt.gray()\n",
    "plt.subplot(2,2,1)\n",
    "plt.axis('off')\n",
    "plt.imshow(img1)\n",
    "plt.subplot(2,2,2)\n",
    "plt.hist(img1.flatten(), 256, (0, 255))\n",
    "plt.subplot(2,2,3)\n",
    "plt.axis('off')\n",
    "plt.imshow(img2)\n",
    "plt.subplot(2,2,4)\n",
    "plt.hist(img2.flatten(), 256, (0, 255))\n",
    "plt.show()"
   ]
  },
  {
   "cell_type": "code",
   "execution_count": null,
   "metadata": {
    "deletable": false,
    "nbgrader": {
     "checksum": "457c526e4cb531bba8ebc354fa137397",
     "grade": true,
     "grade_id": "cell-a030c58775d405f5",
     "locked": false,
     "points": 1,
     "schema_version": 1,
     "solution": true
    }
   },
   "outputs": [],
   "source": [
    "%matplotlib inline\n",
    "import matplotlib.pyplot as plt\n",
    "\n",
    "img = plt.imread('images/pebbles.jpg') # 'schrift.png' or 'pebbles.jpg'\n",
    "\n",
    "# YOUR CODE HERE\n",
    "\n",
    "plt.figure(figsize=(15, 10))\n",
    "plt.gray()\n",
    "plt.subplot(3,1,1); plt.axis('off'); plt.imshow(img)\n",
    "plt.subplot(3,1,2); plt.hist(img.flatten(), 256, (0,255))\n",
    "plt.axvline(thresh, color='r')\n",
    "plt.subplot(3,1,3); plt.axis('off'); plt.imshow(segments)\n",
    "plt.show()"
   ]
  },
  {
   "cell_type": "markdown",
   "metadata": {
    "deletable": false,
    "editable": false,
    "nbgrader": {
     "checksum": "8fde035d26d5778638c5753c9efcbbd6",
     "grade": false,
     "grade_id": "seg-hist-q3",
     "locked": true,
     "schema_version": 1,
     "solution": false
    }
   },
   "source": [
    "### c) Shading\n",
    "\n",
    "Shading may cause a problem to histogram based segmentation. In the lecture (CV-07 slide 13), it was proposed to compute a shading image to deal with that problem. Apply this approach to the images `schrift.png` and `pebbles.jpg`. You may use filter functions from scikit-image for this exercise."
   ]
  },
  {
   "cell_type": "code",
   "execution_count": null,
   "metadata": {
    "deletable": false,
    "nbgrader": {
     "checksum": "9cfbf54b192bb34fa83ac6dabba34022",
     "grade": true,
     "grade_id": "seg-hist-a3",
     "locked": false,
     "points": 2,
     "schema_version": 1,
     "solution": true
    }
   },
   "outputs": [],
   "source": [
    "%matplotlib inline\n",
    "import numpy as np\n",
    "import matplotlib.pyplot as plt\n",
    "\n",
    "img = plt.imread('images/schrift.png')\n",
    "#img = plt.imread('images/pebbles.png')\n",
    "\n",
    "# YOUR CODE HERE"
   ]
  },
  {
   "cell_type": "markdown",
   "metadata": {
    "deletable": false,
    "editable": false,
    "nbgrader": {
     "checksum": "b2f075fc98b49d5cc08466d8ccb0f082",
     "grade": false,
     "grade_id": "pyramid",
     "locked": true,
     "schema_version": 1,
     "solution": false
    }
   },
   "source": [
    "## Assignment 3: Pyramid representation [3 Points]"
   ]
  },
  {
   "cell_type": "markdown",
   "metadata": {
    "deletable": false,
    "editable": false,
    "nbgrader": {
     "checksum": "99c26c3401f3962484e586624762891e",
     "grade": false,
     "grade_id": "pyramid-q1",
     "locked": true,
     "schema_version": 1,
     "solution": false
    }
   },
   "source": [
    "**a)** What is the *Gaussian pyramid*? How does the **reduce** operation work? Explain in your own words what low pass filtering is and why it should be used when building the pyramid? Implement the **reduce** operation and generate a figure similar to the one on (CV-07 slide 32)."
   ]
  },
  {
   "cell_type": "markdown",
   "metadata": {
    "collapsed": true,
    "deletable": false,
    "nbgrader": {
     "checksum": "9f173f8302a5dc5bf15734d3be710d60",
     "grade": true,
     "grade_id": "pyramid-a1",
     "locked": false,
     "points": 1,
     "schema_version": 1,
     "solution": true
    },
    "solution": true
   },
   "source": [
    "YOUR ANSWER HERE"
   ]
  },
  {
   "cell_type": "code",
   "execution_count": null,
   "metadata": {
    "deletable": false,
    "nbgrader": {
     "checksum": "f7eeebc9708383aafb3122faa92329ce",
     "grade": true,
     "grade_id": "pyramid-impl1",
     "locked": false,
     "points": 0,
     "schema_version": 1,
     "solution": true
    }
   },
   "outputs": [],
   "source": [
    "%matplotlib inline\n",
    "import numpy as np\n",
    "from scipy import ndimage\n",
    "import matplotlib.pyplot as plt\n",
    "\n",
    "img = plt.imread('images/mermaid.png')\n",
    "\n",
    "pyramid_image = img.copy() # change this!\n",
    "\n",
    "# YOUR CODE HERE\n",
    "\n",
    "plt.figure(figsize=(15,10))\n",
    "plt.gray()\n",
    "plt.imshow(pyramid_image)\n",
    "plt.show()"
   ]
  },
  {
   "cell_type": "markdown",
   "metadata": {
    "deletable": false,
    "editable": false,
    "nbgrader": {
     "checksum": "d9a037fa7aad112ac3128722aa44cd3c",
     "grade": false,
     "grade_id": "pyramid-q2",
     "locked": true,
     "schema_version": 1,
     "solution": false
    }
   },
   "source": [
    "**b)** What is the **expand** operation? Why can the **reduce** operation not be inverted? Implement the **expand** operation and generate an image similar to the one on (CV-07 slide 34)."
   ]
  },
  {
   "cell_type": "markdown",
   "metadata": {
    "collapsed": true,
    "deletable": false,
    "nbgrader": {
     "checksum": "03e49c6c116a7920df087b3c4c77a986",
     "grade": true,
     "grade_id": "pyramid-a2",
     "locked": false,
     "points": 1,
     "schema_version": 1,
     "solution": true
    },
    "solution": true
   },
   "source": [
    "YOUR ANSWER HERE"
   ]
  },
  {
   "cell_type": "code",
   "execution_count": null,
   "metadata": {
    "deletable": false,
    "nbgrader": {
     "checksum": "7c0219768069c007f0c4e9c6f32d9917",
     "grade": true,
     "grade_id": "pyramid-impl2",
     "locked": false,
     "points": 1,
     "schema_version": 1,
     "solution": true
    }
   },
   "outputs": [],
   "source": [
    "%matplotlib inline\n",
    "import numpy as np\n",
    "from scipy import ndimage\n",
    "import matplotlib.pyplot as plt\n",
    "\n",
    "img = plt.imread('images/mermaid.png')\n",
    "\n",
    "\n",
    "steps = 4\n",
    "pyramid_image = np.zeros((img.shape[0] + (2 ** steps), img.shape[1] + (2 ** steps)))\n",
    "# YOUR CODE HERE\n",
    "\n",
    "plt.figure(figsize=(15,10))\n",
    "plt.gray()\n",
    "plt.imshow(pyramid_image)\n",
    "plt.show()"
   ]
  },
  {
   "cell_type": "markdown",
   "metadata": {
    "deletable": false,
    "editable": false,
    "nbgrader": {
     "checksum": "2bea14ebbd5268e502cc411a343a8bcb",
     "grade": false,
     "grade_id": "texture",
     "locked": true,
     "schema_version": 1,
     "solution": false
    }
   },
   "source": [
    "## Assignment 4: Texture Segmentation [5 Points]"
   ]
  },
  {
   "cell_type": "markdown",
   "metadata": {
    "deletable": false,
    "editable": false,
    "nbgrader": {
     "checksum": "39e355ad0681884ec136db8900e453e7",
     "grade": false,
     "grade_id": "texture-q1",
     "locked": true,
     "schema_version": 1,
     "solution": false
    }
   },
   "source": [
    "**a)** What is texture? Try to define it in your own words. Can there be a standard definition? What problems do you expect for texture based segmentation? "
   ]
  },
  {
   "cell_type": "markdown",
   "metadata": {
    "collapsed": true,
    "deletable": false,
    "nbgrader": {
     "checksum": "22b8fab58ba00ce396b0cf303d49315c",
     "grade": true,
     "grade_id": "texture-a1",
     "locked": false,
     "points": 2,
     "schema_version": 1,
     "solution": true
    },
    "solution": true
   },
   "source": [
    "YOUR ANSWER HERE"
   ]
  },
  {
   "cell_type": "markdown",
   "metadata": {
    "deletable": false,
    "editable": false,
    "nbgrader": {
     "checksum": "6ed8a91148463ce90d8c1d66663ed0a6",
     "grade": false,
     "grade_id": "texture-q2",
     "locked": true,
     "schema_version": 1,
     "solution": false
    }
   },
   "source": [
    "**b)** What is a co-occurence matrix? How can it be used to characterize texture?"
   ]
  },
  {
   "cell_type": "markdown",
   "metadata": {
    "collapsed": true,
    "deletable": false,
    "nbgrader": {
     "checksum": "36c32b03d2223058107b9826893aa6dd",
     "grade": true,
     "grade_id": "texture-a2",
     "locked": false,
     "points": 2,
     "schema_version": 1,
     "solution": true
    },
    "solution": true
   },
   "source": [
    "YOUR ANSWER HERE"
   ]
  },
  {
   "cell_type": "markdown",
   "metadata": {
    "deletable": false,
    "editable": false,
    "nbgrader": {
     "checksum": "d081a6b5eef2a4cfc571feb637e6cebf",
     "grade": false,
     "grade_id": "texture-q3",
     "locked": true,
     "schema_version": 1,
     "solution": false
    }
   },
   "source": [
    "\n",
    "**c)** Implement a function to compute the co-occurence matrix of an image (patch). Apply it and compare your results to (CV-07 slide 54)."
   ]
  },
  {
   "cell_type": "code",
   "execution_count": null,
   "metadata": {
    "deletable": false,
    "nbgrader": {
     "checksum": "68af55e732aa8578df47dbe20ca5be0e",
     "grade": true,
     "grade_id": "texture-a3",
     "locked": false,
     "points": 1,
     "schema_version": 1,
     "solution": true
    }
   },
   "outputs": [],
   "source": [
    "%matplotlib inline\n",
    "import numpy as np\n",
    "from scipy import misc\n",
    "import matplotlib.pyplot as plt\n",
    "import imageio \n",
    "\n",
    "img = imageio.imread('images/mermaid.png')#, mode='L')\n",
    "\n",
    "def get_patch(img, x, y, size=40):\n",
    "    \"\"\"\n",
    "    Extract a rectangular patch from an image and mark it in the original image.\n",
    "    \"\"\"\n",
    "    result = img[x:x+size,y:y+size].copy()\n",
    "    img[x:x+size, [y,y+1,y+size,y+size+1]] = 0\n",
    "    img[[x,x+1,x+size,x+size+1], y:y+size] = 0\n",
    "    return result\n",
    "\n",
    "patches = []\n",
    "patches.append(get_patch(img, 50,130))\n",
    "patches.append(get_patch(img, 110,80))\n",
    "patches.append(get_patch(img, 260,340))\n",
    "patches.append(get_patch(img, 310,110))\n",
    "patches.append(get_patch(img, 100,440))\n",
    "\n",
    "\n",
    "def cooccurrence(img, dx=1, dy=1):\n",
    "    \"\"\"\n",
    "    Compute a co-occurence matrix for the given image.\n",
    "    \n",
    "    Args:\n",
    "        img          the grayscale image (uint8)\n",
    "        dx,dy        the offset between the two reference points\n",
    "\n",
    "    Returns:\n",
    "        matrix       the co-occurence matrix\n",
    "    \"\"\"\n",
    "    matrix = np.empty((256, 256))\n",
    "    # YOUR CODE HERE\n",
    "    return matrix\n",
    "\n",
    "\n",
    "plt.figure(figsize=(8, 8))\n",
    "plt.gray()\n",
    "plt.imshow(img)\n",
    "plt.show()\n",
    "\n",
    "\n",
    "plt.figure(figsize=(8, 8))\n",
    "i = 0\n",
    "for p in patches:\n",
    "    plt.subplot(len(patches),3,i+1); plt.axis('off'); plt.imshow(p)\n",
    "    # For visualization one may apply some extra me, e.g., logarithmization or binarization\n",
    "    plt.subplot(len(patches),3,i+2); plt.imshow(np.log(1 + cooccurrence2(p, 0, 1)), interpolation='none')\n",
    "    plt.subplot(len(patches),3,i+3); plt.imshow(cooccurrence2(p,1,0)>0, interpolation='none')\n",
    "    i += 3\n",
    "plt.show()"
   ]
  },
  {
   "cell_type": "markdown",
   "metadata": {
    "deletable": false,
    "editable": false,
    "nbgrader": {
     "checksum": "accc98addd54c602727987bdb0d0d311",
     "grade": false,
     "grade_id": "region-merging",
     "locked": true,
     "schema_version": 1,
     "solution": false
    }
   },
   "source": [
    "## Assignment 5: Region merging [5 Points]\n",
    "\n",
    "Implement the *region merging* algorithm (CV-07 slide 39) and apply it to the image `segments.png` (or some part of it). Use a simple *homogeneity condition*, e.g. that the maximal difference between gray values in a segment is not larger than a given threshold."
   ]
  },
  {
   "cell_type": "code",
   "execution_count": null,
   "metadata": {
    "deletable": false,
    "nbgrader": {
     "checksum": "192d6bd9f4ab738379010a9c8a4dbeb6",
     "grade": true,
     "grade_id": "region-merging-impl",
     "locked": false,
     "points": 5,
     "schema_version": 1,
     "solution": true
    }
   },
   "outputs": [],
   "source": [
    "%matplotlib inline\n",
    "import numpy as np\n",
    "import matplotlib.pyplot as plt\n",
    "import imageio\n",
    "import warnings\n",
    "warnings.filterwarnings('ignore')\n",
    "\n",
    "img = imageio.imread('../images/segments.png', pilmode='L')\n",
    "\n",
    "\n",
    "# compute the `label` array by implementing \"region merging\"\n",
    "# YOUR CODE HERE\n",
    "\n",
    "plt.figure(figsize=(12, 12))\n",
    "plt.gray()\n",
    "plt.subplot(2,1,1)\n",
    "plt.imshow(img)\n",
    "plt.subplot(2,1,2)\n",
    "plt.imshow(label, cmap='prism')\n",
    "plt.show()\n",
    "\n",
    "\n",
    "warnings.filterwarnings('ignore')"
   ]
  },
  {
   "cell_type": "code",
   "execution_count": null,
   "metadata": {},
   "outputs": [],
   "source": []
  }
 ],
 "metadata": {
  "anaconda-cloud": {},
  "kernelspec": {
   "display_name": "Python 3",
   "language": "python",
   "name": "python3"
  },
  "language_info": {
   "codemirror_mode": {
    "name": "ipython",
    "version": 3
   },
   "file_extension": ".py",
   "mimetype": "text/x-python",
   "name": "python",
   "nbconvert_exporter": "python",
   "pygments_lexer": "ipython3",
   "version": "3.7.1"
  },
  "toc": {
   "nav_menu": {},
   "number_sections": false,
   "sideBar": true,
   "skip_h1_title": false,
   "toc_cell": false,
   "toc_position": {
    "height": "700px",
    "left": "0px",
    "right": "1194px",
    "top": "135px",
    "width": "150px"
   },
   "toc_section_display": "block",
   "toc_window_display": true
  },
  "varInspector": {
   "cols": {
    "lenName": 16,
    "lenType": 16,
    "lenVar": 40
   },
   "kernels_config": {
    "python": {
     "delete_cmd_postfix": "",
     "delete_cmd_prefix": "del ",
     "library": "var_list.py",
     "varRefreshCmd": "print(var_dic_list())"
    },
    "r": {
     "delete_cmd_postfix": ") ",
     "delete_cmd_prefix": "rm(",
     "library": "var_list.r",
     "varRefreshCmd": "cat(var_dic_list()) "
    }
   },
   "types_to_exclude": [
    "module",
    "function",
    "builtin_function_or_method",
    "instance",
    "_Feature"
   ],
   "window_display": false
  },
  "widgets": {
   "state": {},
   "version": "1.1.2"
  }
 },
 "nbformat": 4,
 "nbformat_minor": 1
}
